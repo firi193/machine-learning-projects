{
  "nbformat": 4,
  "nbformat_minor": 5,
  "metadata": {
    "accelerator": "GPU",
    "colab": {
      "name": "malaria_detection_model.ipynb",
      "provenance": []
    },
    "kernelspec": {
      "display_name": "Python 3",
      "language": "python",
      "name": "python3"
    },
    "language_info": {
      "codemirror_mode": {
        "name": "ipython",
        "version": 3
      },
      "file_extension": ".py",
      "mimetype": "text/x-python",
      "name": "python",
      "nbconvert_exporter": "python",
      "pygments_lexer": "ipython3",
      "version": "3.7.10"
    }
  },
  "cells": [
    {
      "cell_type": "markdown",
      "metadata": {
        "id": "817e258e"
      },
      "source": [
        "Imports"
      ],
      "id": "817e258e"
    },
    {
      "cell_type": "code",
      "metadata": {
        "id": "c543b630"
      },
      "source": [
        "#import time\n",
        "\n",
        "#import gpu_imports\n",
        "import numpy as np\n",
        "import pandas as pd\n",
        "\n",
        "#from sklearn.metrics import accuracy_score, confusion_matrix, classification_report\n",
        "#from sklearn.model_selection import train_test_split\n",
        "#from sklearn.preprocessing import LabelEncoder\n",
        "#import seaborn as sns\n",
        "# import cv2\n",
        "# import matplotlib.pyplot as plt\n",
        "\n",
        "from keras.preprocessing.image import ImageDataGenerator\n",
        "from tensorflow.keras.preprocessing import image as image_utils\n",
        "#from tensorflow.keras.applications.imagenet_utils import preprocess_input\n",
        "from keras.optimizers import RMSprop, SGD, Adam\n",
        "#from keras.callbacks import ModelCheckpoint, EarlyStopping, ReduceLROnPlateau\n",
        "\n",
        "#import sys\n",
        "\n",
        "from keras.models import Sequential\n",
        "from keras.layers import Conv2D, MaxPooling2D, BatchNormalization\n",
        "from keras.layers import Activation, Dense, Flatten, Dropout, ZeroPadding2D\n",
        "from keras.layers import LeakyReLU"
      ],
      "id": "c543b630",
      "execution_count": null,
      "outputs": []
    },
    {
      "cell_type": "code",
      "metadata": {
        "id": "TQl0aycWM4pe"
      },
      "source": [
        "!pip install -U -q PyDrive\n",
        "from pydrive.auth import GoogleAuth\n",
        "from pydrive.drive import GoogleDrive\n",
        "from google.colab import auth\n",
        "from oauth2client.client import GoogleCredentials"
      ],
      "id": "TQl0aycWM4pe",
      "execution_count": null,
      "outputs": []
    },
    {
      "cell_type": "code",
      "metadata": {
        "id": "mArzosTIM8mF"
      },
      "source": [
        "auth.authenticate_user()\n",
        "gauth = GoogleAuth()\n",
        "gauth.credentials = GoogleCredentials.get_application_default()\n",
        "drive = GoogleDrive(gauth)\n"
      ],
      "id": "mArzosTIM8mF",
      "execution_count": null,
      "outputs": []
    },
    {
      "cell_type": "code",
      "metadata": {
        "colab": {
          "base_uri": "https://localhost:8080/"
        },
        "id": "GtjDKZUgNC40",
        "outputId": "86d5a5ea-df00-424e-b760-089b0f166fec"
      },
      "source": [
        "!gdown --id 1tj1pgxn8NzL9jCX3Bkh_4CczVIgUqHYV"
      ],
      "id": "GtjDKZUgNC40",
      "execution_count": null,
      "outputs": [
        {
          "output_type": "stream",
          "text": [
            "Downloading...\n",
            "From: https://drive.google.com/uc?id=1tj1pgxn8NzL9jCX3Bkh_4CczVIgUqHYV\n",
            "To: /content/Malaria Data(with impurities).zip\n",
            "337MB [00:01, 242MB/s]\n"
          ],
          "name": "stdout"
        }
      ]
    },
    {
      "cell_type": "code",
      "metadata": {
        "colab": {
          "base_uri": "https://localhost:8080/"
        },
        "id": "vDtqH2imNFsD",
        "outputId": "3a10d073-d967-427e-e5b2-c8f329e948f8"
      },
      "source": [
        "from zipfile import ZipFile\n",
        "file_name=\"Malaria Data(with impurities).zip\"\n",
        "\n",
        "with ZipFile(file_name, 'r') as zip:\n",
        "  zip.extractall()\n",
        "  print('Done')"
      ],
      "id": "vDtqH2imNFsD",
      "execution_count": null,
      "outputs": [
        {
          "output_type": "stream",
          "text": [
            "Done\n"
          ],
          "name": "stdout"
        }
      ]
    },
    {
      "cell_type": "markdown",
      "metadata": {
        "id": "ec6ccd30"
      },
      "source": [
        "Load data into x and y and randomize them"
      ],
      "id": "ec6ccd30"
    },
    {
      "cell_type": "code",
      "metadata": {
        "id": "560e577f"
      },
      "source": [
        "#Malaria Data(with impurities)\\Parasitized\n",
        "\n",
        "malaria_images_path = './Malaria Data(with impurities)/Train' # Dataset contains folders Parasitized and Uninfected\n",
        "Train_parasitized_path = malaria_images_path + '/Parasitized/'\n",
        "Train_uninfected_path = malaria_images_path + '/Uninfected/'\n",
        "# uninfected_path =  malaria_images_path + '/Uninfected'\n",
        "\n",
        "\n",
        "\n",
        "\n",
        "\n",
        "\n"
      ],
      "id": "560e577f",
      "execution_count": null,
      "outputs": []
    },
    {
      "cell_type": "code",
      "metadata": {
        "id": "b3df782e"
      },
      "source": [
        "import os\n",
        "parasitized_folder_T = os.listdir(Train_parasitized_path)\n",
        "uninfected_folder_T = os.listdir(Train_uninfected_path)"
      ],
      "id": "b3df782e",
      "execution_count": null,
      "outputs": []
    },
    {
      "cell_type": "code",
      "metadata": {
        "id": "a6e55bdd"
      },
      "source": [
        "X_train = []\n",
        "# Y = []\n",
        "dim = (128, 128)\n",
        "# count = 0"
      ],
      "id": "a6e55bdd",
      "execution_count": null,
      "outputs": []
    },
    {
      "cell_type": "code",
      "metadata": {
        "id": "99f9b503"
      },
      "source": [
        "for image in parasitized_folder_T:\n",
        "    try:\n",
        "        image = image_utils.load_img(Train_parasitized_path + image, color_mode=\"rgb\", target_size=dim)\n",
        "        #image = cv2.resize(image, dim)\n",
        "        image = image_utils.img_to_array(image)\n",
        "        X_train.append(image)\n",
        "        #Y.append('Infected')\n",
        "    except:\n",
        "        continue"
      ],
      "id": "99f9b503",
      "execution_count": null,
      "outputs": []
    },
    {
      "cell_type": "code",
      "metadata": {
        "id": "6f420f3d"
      },
      "source": [
        "for image in uninfected_folder_T:\n",
        "    try:\n",
        "        image = image_utils.load_img(Train_uninfected_path + image, color_mode=\"rgb\", target_size=dim)\n",
        "        #image = cv2.resize(image, dim)\n",
        "        image = image_utils.img_to_array(image)\n",
        "        X_train.append(image)\n",
        "        #Y.append('Uninfected')\n",
        "    except:\n",
        "        continue"
      ],
      "id": "6f420f3d",
      "execution_count": null,
      "outputs": []
    },
    {
      "cell_type": "markdown",
      "metadata": {
        "id": "1f3dab0b"
      },
      "source": [
        "Preprocess training data\n",
        "1. Resize\n",
        "2. Normalize\n",
        "3. change images into arrays\n"
      ],
      "id": "1f3dab0b"
    },
    {
      "cell_type": "code",
      "metadata": {
        "id": "6be9e53e"
      },
      "source": [
        ""
      ],
      "id": "6be9e53e",
      "execution_count": null,
      "outputs": []
    },
    {
      "cell_type": "markdown",
      "metadata": {
        "id": "251952b6"
      },
      "source": [
        "split the data into train, validation, and test samples"
      ],
      "id": "251952b6"
    },
    {
      "cell_type": "code",
      "metadata": {
        "id": "a684bc7c"
      },
      "source": [
        "# train_X, test_X, train_Y, test_Y = train_test_split(X, Y.astype(np.int8), \n",
        "#                                                                       test_size=0.3, random_state=42)\n",
        "# train_X, val_X, train_Y, val_Y = train_test_split(X, Y.astype(np.int8), \n",
        "#                                                                     test_size=0.1, random_state=42)"
      ],
      "id": "a684bc7c",
      "execution_count": null,
      "outputs": []
    },
    {
      "cell_type": "markdown",
      "metadata": {
        "id": "5a935f0e"
      },
      "source": [
        "Augment the data"
      ],
      "id": "5a935f0e"
    },
    {
      "cell_type": "code",
      "metadata": {
        "id": "5712bb0a"
      },
      "source": [
        "\n",
        "datagen = ImageDataGenerator(rotation_range=20,\n",
        "                                  shear_range = 0.1,\n",
        "                                  zoom_range = 0.05,\n",
        "                                  #rescale=1.0/255.0,\n",
        "                                  horizontal_flip=True,\n",
        "                                  featurewise_center=True, \n",
        "                                  featurewise_std_normalization=True,\n",
        "                             \n",
        "                                  width_shift_range=0.05,\n",
        "                                  height_shift_range=0.05)\n",
        "\n",
        "datagen.fit(X_train)\n",
        "\n",
        "#validation_datagen = ImageDataGenerator(rescale = 1./255)\n",
        "\n",
        "#validation_datagen.fit(val_X)\n"
      ],
      "id": "5712bb0a",
      "execution_count": null,
      "outputs": []
    },
    {
      "cell_type": "code",
      "metadata": {
        "colab": {
          "base_uri": "https://localhost:8080/"
        },
        "id": "9b420b5b",
        "outputId": "4eb456e5-7a68-4121-e90a-41a6bc093776"
      },
      "source": [
        "# load and iterate training dataset\n",
        "train_it = datagen.flow_from_directory('Malaria Data(with impurities)/Train/', \n",
        "                                       target_size=(128,128), \n",
        "                                       color_mode='rgb', \n",
        "                                       class_mode='binary', \n",
        "                                       shuffle=True,\n",
        "                                       seed=42,\n",
        "                                       batch_size=32)\n",
        "# load and iterate validation dataset\n",
        "valid_it = datagen.flow_from_directory('Malaria Data(with impurities)/Valid/', \n",
        "                                      target_size=(128,128), \n",
        "                                      color_mode='rgb', \n",
        "                                      class_mode='binary', \n",
        "                                      shuffle=True,\n",
        "                                       seed=20,\n",
        "                                      batch_size=32)\n",
        "\n",
        "test_it = datagen.flow_from_directory('Malaria Data(with impurities)/Test/', \n",
        "                                      target_size=(128,128), \n",
        "                                      color_mode='rgb',\n",
        "                                      shuffle=True,\n",
        "                                       seed=20, \n",
        "                                      class_mode='binary', \n",
        "                                      batch_size=32)"
      ],
      "id": "9b420b5b",
      "execution_count": null,
      "outputs": [
        {
          "output_type": "stream",
          "text": [
            "Found 15720 images belonging to 2 classes.\n",
            "Found 5239 images belonging to 2 classes.\n",
            "Found 5240 images belonging to 2 classes.\n"
          ],
          "name": "stdout"
        }
      ]
    },
    {
      "cell_type": "markdown",
      "metadata": {
        "id": "29074061"
      },
      "source": [
        "Make the model,"
      ],
      "id": "29074061"
    },
    {
      "cell_type": "code",
      "metadata": {
        "colab": {
          "base_uri": "https://localhost:8080/"
        },
        "id": "861c87c6",
        "outputId": "bd97198e-3a27-4a9f-85f5-40a6e4973409"
      },
      "source": [
        "leaky_relu_alpha = 0.1\n",
        "\n",
        "model = Sequential()\n",
        "\n",
        "# 1st Conv Layer\n",
        "model.add(Conv2D(64, (3,3), strides=(1, 1), padding='same', input_shape=(128, 128, 3)))\n",
        "model.add(LeakyReLU(alpha=leaky_relu_alpha))\n",
        "model.add(BatchNormalization())\n",
        "\n",
        "# 2nd Conv Layer\n",
        "model.add(Conv2D(64, (3,3), strides=(1, 1), padding='same', input_shape=(128, 128, 3)))\n",
        "model.add(LeakyReLU(alpha=leaky_relu_alpha))\n",
        "model.add(BatchNormalization())\n",
        "\n",
        "# Max Pooling with Dropout Layer\n",
        "model.add(MaxPooling2D(pool_size = (2, 2)))\n",
        "model.add(Dropout(0.2))\n",
        "\n",
        "# 3rd Conv Layer\n",
        "model.add(Conv2D(128, (3,3), strides=(1, 1), padding='same'))\n",
        "model.add(LeakyReLU(alpha=leaky_relu_alpha))\n",
        "model.add(BatchNormalization())\n",
        "\n",
        "# 4th Conv Layer\n",
        "model.add(Conv2D(128, (3,3), strides=(1, 1), padding='same'))\n",
        "model.add(LeakyReLU(alpha=leaky_relu_alpha))\n",
        "model.add(BatchNormalization())\n",
        "\n",
        "# Max Pooling with Dropout Layer\n",
        "model.add(MaxPooling2D(pool_size = (2, 2)))\n",
        "model.add(Dropout(0.2))\n",
        "\n",
        "# 5th Conv Layer\n",
        "model.add(Conv2D(256, (3,3), strides=(1, 1), padding='same'))\n",
        "model.add(LeakyReLU(alpha=leaky_relu_alpha))\n",
        "model.add(BatchNormalization())\n",
        "\n",
        "# 6th Conv Layer\n",
        "model.add(Conv2D(256, (3,3), strides=(1, 1), padding='same'))\n",
        "model.add(LeakyReLU(alpha=leaky_relu_alpha))\n",
        "model.add(BatchNormalization())\n",
        "\n",
        "# Max Pooling with Dropout Layer\n",
        "model.add(MaxPooling2D(pool_size = (2, 2)))\n",
        "model.add(Dropout(0.2))\n",
        "\n",
        "# 1st FC Dense Layer\n",
        "model.add(Flatten())\n",
        "model.add(Dense(256))\n",
        "model.add(LeakyReLU(alpha=leaky_relu_alpha))\n",
        "model.add(BatchNormalization())\n",
        "model.add(Dropout(0.3))\n",
        "\n",
        "# 2nd FC Dense Layer\n",
        "model.add(Dense(256))\n",
        "model.add(LeakyReLU(alpha=leaky_relu_alpha))\n",
        "model.add(BatchNormalization())\n",
        "model.add(Dropout(0.3))\n",
        "\n",
        "# Final Dense Layer\n",
        "model.add(Dense(1))\n",
        "model.add(Activation('sigmoid'))\n",
        "\n",
        "model.summary()"
      ],
      "id": "861c87c6",
      "execution_count": null,
      "outputs": [
        {
          "output_type": "stream",
          "text": [
            "Model: \"sequential\"\n",
            "_________________________________________________________________\n",
            "Layer (type)                 Output Shape              Param #   \n",
            "=================================================================\n",
            "conv2d (Conv2D)              (None, 128, 128, 64)      1792      \n",
            "_________________________________________________________________\n",
            "leaky_re_lu (LeakyReLU)      (None, 128, 128, 64)      0         \n",
            "_________________________________________________________________\n",
            "batch_normalization (BatchNo (None, 128, 128, 64)      256       \n",
            "_________________________________________________________________\n",
            "conv2d_1 (Conv2D)            (None, 128, 128, 64)      36928     \n",
            "_________________________________________________________________\n",
            "leaky_re_lu_1 (LeakyReLU)    (None, 128, 128, 64)      0         \n",
            "_________________________________________________________________\n",
            "batch_normalization_1 (Batch (None, 128, 128, 64)      256       \n",
            "_________________________________________________________________\n",
            "max_pooling2d (MaxPooling2D) (None, 64, 64, 64)        0         \n",
            "_________________________________________________________________\n",
            "dropout (Dropout)            (None, 64, 64, 64)        0         \n",
            "_________________________________________________________________\n",
            "conv2d_2 (Conv2D)            (None, 64, 64, 128)       73856     \n",
            "_________________________________________________________________\n",
            "leaky_re_lu_2 (LeakyReLU)    (None, 64, 64, 128)       0         \n",
            "_________________________________________________________________\n",
            "batch_normalization_2 (Batch (None, 64, 64, 128)       512       \n",
            "_________________________________________________________________\n",
            "conv2d_3 (Conv2D)            (None, 64, 64, 128)       147584    \n",
            "_________________________________________________________________\n",
            "leaky_re_lu_3 (LeakyReLU)    (None, 64, 64, 128)       0         \n",
            "_________________________________________________________________\n",
            "batch_normalization_3 (Batch (None, 64, 64, 128)       512       \n",
            "_________________________________________________________________\n",
            "max_pooling2d_1 (MaxPooling2 (None, 32, 32, 128)       0         \n",
            "_________________________________________________________________\n",
            "dropout_1 (Dropout)          (None, 32, 32, 128)       0         \n",
            "_________________________________________________________________\n",
            "conv2d_4 (Conv2D)            (None, 32, 32, 256)       295168    \n",
            "_________________________________________________________________\n",
            "leaky_re_lu_4 (LeakyReLU)    (None, 32, 32, 256)       0         \n",
            "_________________________________________________________________\n",
            "batch_normalization_4 (Batch (None, 32, 32, 256)       1024      \n",
            "_________________________________________________________________\n",
            "conv2d_5 (Conv2D)            (None, 32, 32, 256)       590080    \n",
            "_________________________________________________________________\n",
            "leaky_re_lu_5 (LeakyReLU)    (None, 32, 32, 256)       0         \n",
            "_________________________________________________________________\n",
            "batch_normalization_5 (Batch (None, 32, 32, 256)       1024      \n",
            "_________________________________________________________________\n",
            "max_pooling2d_2 (MaxPooling2 (None, 16, 16, 256)       0         \n",
            "_________________________________________________________________\n",
            "dropout_2 (Dropout)          (None, 16, 16, 256)       0         \n",
            "_________________________________________________________________\n",
            "flatten (Flatten)            (None, 65536)             0         \n",
            "_________________________________________________________________\n",
            "dense (Dense)                (None, 256)               16777472  \n",
            "_________________________________________________________________\n",
            "leaky_re_lu_6 (LeakyReLU)    (None, 256)               0         \n",
            "_________________________________________________________________\n",
            "batch_normalization_6 (Batch (None, 256)               1024      \n",
            "_________________________________________________________________\n",
            "dropout_3 (Dropout)          (None, 256)               0         \n",
            "_________________________________________________________________\n",
            "dense_1 (Dense)              (None, 256)               65792     \n",
            "_________________________________________________________________\n",
            "leaky_re_lu_7 (LeakyReLU)    (None, 256)               0         \n",
            "_________________________________________________________________\n",
            "batch_normalization_7 (Batch (None, 256)               1024      \n",
            "_________________________________________________________________\n",
            "dropout_4 (Dropout)          (None, 256)               0         \n",
            "_________________________________________________________________\n",
            "dense_2 (Dense)              (None, 1)                 257       \n",
            "_________________________________________________________________\n",
            "activation (Activation)      (None, 1)                 0         \n",
            "=================================================================\n",
            "Total params: 17,994,561\n",
            "Trainable params: 17,991,745\n",
            "Non-trainable params: 2,816\n",
            "_________________________________________________________________\n"
          ],
          "name": "stdout"
        }
      ]
    },
    {
      "cell_type": "markdown",
      "metadata": {
        "id": "27c45a6b"
      },
      "source": [
        "Optimize"
      ],
      "id": "27c45a6b"
    },
    {
      "cell_type": "code",
      "metadata": {
        "id": "8fa1ec18"
      },
      "source": [
        ""
      ],
      "id": "8fa1ec18",
      "execution_count": null,
      "outputs": []
    },
    {
      "cell_type": "markdown",
      "metadata": {
        "id": "0886e8de"
      },
      "source": [
        "Compile"
      ],
      "id": "0886e8de"
    },
    {
      "cell_type": "code",
      "metadata": {
        "id": "e53f495e"
      },
      "source": [
        "from tensorflow import keras\n",
        "from keras.optimizers import RMSprop, SGD, Adam\n",
        "from keras.callbacks import ModelCheckpoint, EarlyStopping, ReduceLROnPlateau\n",
        "\n",
        "checkpoint = ModelCheckpoint('/Saved_Model/Malaria_detection.h5',\n",
        "                            monitor = 'val_loss',\n",
        "                            mode = 'min',\n",
        "                            save_best_only = True,\n",
        "                            verbose = 1)\n",
        "\n",
        "earlystop = EarlyStopping(monitor = 'val_loss',\n",
        "                         min_delta = 0.0001,\n",
        "                         patience = 20,\n",
        "                         verbose = 1,\n",
        "                         restore_best_weights = True)\n",
        "\n",
        "reduce_lr = ReduceLROnPlateau(monitor = 'val_loss',\n",
        "                             factor = 0.01,\n",
        "                             patience = 20,\n",
        "                             verbose = 1,\n",
        "                             min_delta = 0.00001)\n",
        "\n",
        "callbacks = [checkpoint, earlystop, reduce_lr]\n",
        "model.compile(loss = 'binary_crossentropy',\n",
        "             optimizer = Adam(learning_rate=0.0001, decay = 0.001 / 64),\n",
        "             metrics=[keras.metrics.BinaryAccuracy()])"
      ],
      "id": "e53f495e",
      "execution_count": null,
      "outputs": []
    },
    {
      "cell_type": "markdown",
      "metadata": {
        "id": "78d27807"
      },
      "source": [
        "fit the model"
      ],
      "id": "78d27807"
    },
    {
      "cell_type": "code",
      "metadata": {
        "colab": {
          "base_uri": "https://localhost:8080/"
        },
        "id": "dbcb9fcb",
        "outputId": "4b98c838-8ffc-4579-bf9f-3257b07595aa"
      },
      "source": [
        "batch_size=64\n",
        "steps_training=int(15722/batch_size)\n",
        "steps_validation=int(5239/batch_size)\n",
        "model.fit(train_it, \n",
        "          epochs = 50, \n",
        "          batch_size = batch_size,\n",
        "          steps_per_epoch=steps_training,\n",
        "          validation_data = valid_it,\n",
        "          validation_steps=steps_validation)"
      ],
      "id": "dbcb9fcb",
      "execution_count": null,
      "outputs": [
        {
          "output_type": "stream",
          "text": [
            "Epoch 1/5\n",
            "491/491 [==============================] - 109s 223ms/step - loss: 0.0253 - binary_accuracy: 0.9870 - val_loss: 0.1582 - val_binary_accuracy: 0.9869\n",
            "Epoch 2/5\n",
            "491/491 [==============================] - 109s 222ms/step - loss: 0.0250 - binary_accuracy: 0.9869 - val_loss: 0.1527 - val_binary_accuracy: 0.9869\n",
            "Epoch 3/5\n",
            "491/491 [==============================] - 108s 221ms/step - loss: 0.0261 - binary_accuracy: 0.9868 - val_loss: 0.1597 - val_binary_accuracy: 0.9868\n",
            "Epoch 4/5\n",
            "491/491 [==============================] - 109s 222ms/step - loss: 0.0241 - binary_accuracy: 0.9868 - val_loss: 0.1358 - val_binary_accuracy: 0.9867\n",
            "Epoch 5/5\n",
            "491/491 [==============================] - 109s 221ms/step - loss: 0.0244 - binary_accuracy: 0.9866 - val_loss: 0.0915 - val_binary_accuracy: 0.9866\n"
          ],
          "name": "stdout"
        },
        {
          "output_type": "execute_result",
          "data": {
            "text/plain": [
              "<keras.callbacks.History at 0x7f94065d7e90>"
            ]
          },
          "metadata": {
            "tags": []
          },
          "execution_count": 23
        }
      ]
    },
    {
      "cell_type": "code",
      "metadata": {
        "id": "d3464bd8"
      },
      "source": [
        "#test_accuracy = model.evaluate(test_it, verbose = 1)"
      ],
      "id": "d3464bd8",
      "execution_count": null,
      "outputs": []
    },
    {
      "cell_type": "code",
      "metadata": {
        "colab": {
          "base_uri": "https://localhost:8080/"
        },
        "id": "3f463a98",
        "outputId": "5c861b04-b306-47ee-a7ca-a4cbbe9e1a43"
      },
      "source": [
        "#model.save('malaria_detection_model_2')"
      ],
      "id": "3f463a98",
      "execution_count": null,
      "outputs": [
        {
          "output_type": "stream",
          "text": [
            "INFO:tensorflow:Assets written to: malaria_detection_model_2/assets\n"
          ],
          "name": "stdout"
        }
      ]
    }
  ]
}